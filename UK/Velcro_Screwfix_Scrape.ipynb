{
 "cells": [
  {
   "cell_type": "code",
   "execution_count": 1,
   "metadata": {},
   "outputs": [],
   "source": [
    "from bs4 import BeautifulSoup\n",
    "from selenium import webdriver\n",
    "\n",
    "browser = webdriver.Chrome()\n",
    "url = 'https://www.screwfix.com/c/sealants-adhesives/building-tape/cat850118?brand=velcro_brand&cm_sp=managedredirect-_-sealantsadhesives-_-velcrotape'\n",
    "browser.get(url)\n",
    "innerHTML = browser.execute_script('return document.body.innerHTML')\n",
    "soup = BeautifulSoup(innerHTML, \"html5lib\")\n",
    "\n",
    "data = []"
   ]
  },
  {
   "cell_type": "code",
   "execution_count": 2,
   "metadata": {},
   "outputs": [],
   "source": [
    "items = soup.find_all(\"img\", id=\"product_image\")\n",
    "\n",
    "for item in range(len(items)):\n",
    "    data += [{'product-image' : items[item]['src'],\n",
    "              'product-name' : items[item]['alt']\n",
    "             }]\n",
    "    data[-1]['product-name'] = data[-1]['product-name'].replace('\\t','')"
   ]
  },
  {
   "cell_type": "code",
   "execution_count": 3,
   "metadata": {},
   "outputs": [
    {
     "name": "stdout",
     "output_type": "stream",
     "text": [
      "1\n",
      "https://media.screwfix.com/is/image/ae235/4419P_P?$autoprodblock$\n",
      "Velcro Brand Heavy Duty Stick-On Tape Black 50mm x 5m\n",
      "2\n",
      "https://media.screwfix.com/is/image/ae235/21670_P?$autoprodblock$\n",
      "Velcro Brand Heavy Duty Stick-On Tape Black 50mm x 1m\n",
      "3\n",
      "https://media.screwfix.com/is/image/ae235/58661_P?$autoprodblock$\n",
      "Velcro Brand Stick-On Tape White 20mm x 5m\n",
      "4\n",
      "https://media.screwfix.com/is/image/ae235/78840_P?$autoprodblock$\n",
      "Velcro Brand Stick-On Tape White 20mm x 2.5m\n",
      "5\n",
      "https://media.screwfix.com/is/image/ae235/32960_P?$autoprodblock$\n",
      "Velcro Brand Heavy Duty Stick-On Coins Black 45mm x 45mm 6 Pieces\n"
     ]
    }
   ],
   "source": [
    "for i in range(len(data)):\n",
    "    print i+1\n",
    "    print data[i]['product-image']\n",
    "    print data[i]['product-name']"
   ]
  },
  {
   "cell_type": "code",
   "execution_count": null,
   "metadata": {},
   "outputs": [],
   "source": []
  }
 ],
 "metadata": {
  "kernelspec": {
   "display_name": "Python 2",
   "language": "python",
   "name": "python2"
  },
  "language_info": {
   "codemirror_mode": {
    "name": "ipython",
    "version": 2
   },
   "file_extension": ".py",
   "mimetype": "text/x-python",
   "name": "python",
   "nbconvert_exporter": "python",
   "pygments_lexer": "ipython2",
   "version": "2.7.13"
  }
 },
 "nbformat": 4,
 "nbformat_minor": 2
}
