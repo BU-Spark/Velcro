{
 "cells": [
  {
   "cell_type": "code",
   "execution_count": 1,
   "metadata": {},
   "outputs": [
    {
     "name": "stderr",
     "output_type": "stream",
     "text": [
      "/usr/local/lib/python2.7/site-packages/bs4/__init__.py:181: UserWarning: No parser was explicitly specified, so I'm using the best available HTML parser for this system (\"html5lib\"). This usually isn't a problem, but if you run this code on another system, or in a different virtual environment, it may use a different parser and behave differently.\n",
      "\n",
      "The code that caused this warning is on line 174 of the file /usr/local/Cellar/python/2.7.13/Frameworks/Python.framework/Versions/2.7/lib/python2.7/runpy.py. To get rid of this warning, change code that looks like this:\n",
      "\n",
      " BeautifulSoup(YOUR_MARKUP})\n",
      "\n",
      "to this:\n",
      "\n",
      " BeautifulSoup(YOUR_MARKUP, \"html5lib\")\n",
      "\n",
      "  markup_type=markup_type))\n"
     ]
    }
   ],
   "source": [
    "from bs4 import BeautifulSoup\n",
    "from selenium import webdriver\n",
    "\n",
    "browser = webdriver.Chrome()\n",
    "url = 'https://www.homebase.co.uk/search/products?q=velcro&redirectFrom=Any'\n",
    "browser.get(url)\n",
    "innerHTML = browser.execute_script('return document.body.innerHTML')\n",
    "soup = BeautifulSoup(innerHTML)\n",
    "\n",
    "data = []"
   ]
  },
  {
   "cell_type": "code",
   "execution_count": 2,
   "metadata": {},
   "outputs": [],
   "source": [
    "items = soup.find_all(\"article\", class_='product-list__item hproduct')\n",
    "\n",
    "for item in range(len(items)):\n",
    "    data += [{'product-image' : items[item].find(class_='product-list__photo').find('img')['data-original'],\n",
    "              'product-name' : items[item].find(class_='product-list__title').get_text(strip=True)\n",
    "             }]\n",
    "    data[-1]['product-name'] = data[-1]['product-name'].replace('\\t','')"
   ]
  },
  {
   "cell_type": "code",
   "execution_count": 3,
   "metadata": {},
   "outputs": [
    {
     "name": "stdout",
     "output_type": "stream",
     "text": [
      "1\n",
      "https://bcc53877d7aa0a135b9a-1452ca75bf8985207bb5b0c44a65ef28.ssl.cf4.rackcdn.com/Product-190x190/c74e59bb-1ad6-4385-89e0-68e32c6e336e.jpg\n",
      "VELCRO® Brand Cable Clips - Pack Of 16\n",
      "2\n",
      "https://bcc53877d7aa0a135b9a-1452ca75bf8985207bb5b0c44a65ef28.ssl.cf4.rackcdn.com/Product-190x190/09fe669c-61e4-4a45-8a27-edd20928aadc.jpg\n",
      "VELCRO® Brand Adjustable Straps - Blue - 2 pack\n",
      "3\n",
      "https://bcc53877d7aa0a135b9a-1452ca75bf8985207bb5b0c44a65ef28.ssl.cf4.rackcdn.com/Product-190x190/720eab6a-2248-467e-b780-4c3894bf74c4.jpg\n",
      "VELCRO® Brand Heavy Duty Stick-On Strips - White - 2 Pack\n",
      "4\n",
      "https://bcc53877d7aa0a135b9a-1452ca75bf8985207bb5b0c44a65ef28.ssl.cf4.rackcdn.com/Product-190x190/d02461a1-5d49-45da-b166-5d6702ab06a0.jpg\n",
      "VELCRO® Brand Heavy Duty Coins - Black - 6 Pack\n",
      "5\n",
      "https://bcc53877d7aa0a135b9a-1452ca75bf8985207bb5b0c44a65ef28.ssl.cf4.rackcdn.com/Product-190x190/9906720c-b965-4adf-923a-9cbcb90e019e.jpg\n",
      "VELCRO® Brand Heavy Duty Stick-On Strips - Black - 2 Pack\n",
      "6\n",
      "https://bcc53877d7aa0a135b9a-1452ca75bf8985207bb5b0c44a65ef28.ssl.cf4.rackcdn.com/Product-190x190/42d8b2ec-a4f6-42c4-9f86-4fed52977f67.jpg\n",
      "VELCRO® Brand ONE-WRAP® Reusable Ties 30mm x 5m - Black\n",
      "7\n",
      "https://bcc53877d7aa0a135b9a-1452ca75bf8985207bb5b0c44a65ef28.ssl.cf4.rackcdn.com/Product-190x190/639e75ce-9890-4b42-9851-20e47116b37c.jpg\n",
      "VELCRO® Brand Stick-On Square - White - 25mm - 24 Set\n",
      "8\n",
      "https://bcc53877d7aa0a135b9a-1452ca75bf8985207bb5b0c44a65ef28.ssl.cf4.rackcdn.com/Product-190x190/42742647-136f-4084-9080-4d4f7e6c625c.jpg\n",
      "VELCRO® Brand Stick-On Tape - White - 20mm x 5m\n",
      "9\n",
      "https://bcc53877d7aa0a135b9a-1452ca75bf8985207bb5b0c44a65ef28.ssl.cf4.rackcdn.com/Product-190x190/68b7cccf-069a-42b8-b460-e39208b7bc4e.jpg\n",
      "VELCRO® Brand Stick-On Tape - Black - 20mm x 5m\n",
      "10\n",
      "https://bcc53877d7aa0a135b9a-1452ca75bf8985207bb5b0c44a65ef28.ssl.cf4.rackcdn.com/Product-190x190/a9a6532e-2121-4d86-88bb-27227ba881dc.jpg\n",
      "VELCRO® Brand Heavy Duty Stick On Coins 45mm - 6 Pack - White\n",
      "11\n",
      "https://bcc53877d7aa0a135b9a-1452ca75bf8985207bb5b0c44a65ef28.ssl.cf4.rackcdn.com/Product-190x190/621687ee-da5d-415b-8f13-f894d6b81123.jpg\n",
      "VELCRO® Brand Plant Ties - Green - 12mm x 5m\n",
      "12\n",
      "https://bcc53877d7aa0a135b9a-1452ca75bf8985207bb5b0c44a65ef28.ssl.cf4.rackcdn.com/Product-190x190/56c321b6-e13e-4cda-a757-9558d30a83d0.jpg\n",
      "VELCRO® Brand Stick On Tape - White - 20mm x 1m\n",
      "13\n",
      "https://bcc53877d7aa0a135b9a-1452ca75bf8985207bb5b0c44a65ef28.ssl.cf4.rackcdn.com/Product-190x190/699f51de-12ca-4bd7-9949-93bc3ce10176.jpg\n",
      "VELCRO® Brand Stick On Tape - Black - 20mm x 1m\n",
      "14\n",
      "https://bcc53877d7aa0a135b9a-1452ca75bf8985207bb5b0c44a65ef28.ssl.cf4.rackcdn.com/Product-190x190/a924f8fe-537f-485c-bb21-f7d996aac5ce.jpg\n",
      "VELCRO® Brand Stick On Tape 20mm x 2.5m - Black\n",
      "15\n",
      "https://bcc53877d7aa0a135b9a-1452ca75bf8985207bb5b0c44a65ef28.ssl.cf4.rackcdn.com/Product-190x190/458b73ba-7de1-4001-bbf2-a6972c6c105f.jpg\n",
      "VELCRO® Brand Heavy Duty Stick On Tape - Black - 50mm x 2.5m\n",
      "16\n",
      "https://bcc53877d7aa0a135b9a-1452ca75bf8985207bb5b0c44a65ef28.ssl.cf4.rackcdn.com/Product-190x190/167c3305-373d-4a8c-b703-1e586a49679e.jpg\n",
      "VELCRO® Brand Heavy Duty Stick On Tape - White - 50mm x 2.5m\n",
      "17\n",
      "https://bcc53877d7aa0a135b9a-1452ca75bf8985207bb5b0c44a65ef28.ssl.cf4.rackcdn.com/Product-190x190/432abbb0-7aed-4da8-ab37-134dde60cd0e.jpg\n",
      "VELCRO® Brand ONE-WRAP® Reusable Ties - Black - 10mm x 5m\n",
      "18\n",
      "https://bcc53877d7aa0a135b9a-1452ca75bf8985207bb5b0c44a65ef28.ssl.cf4.rackcdn.com/Product-190x190/2cf228a6-f0ab-44e4-8d3d-3ffca7862f17.jpg\n",
      "VELCRO® Brand Stretch Strap - Black - 25mm x 68cm - Pack of 2\n",
      "19\n",
      "https://bcc53877d7aa0a135b9a-1452ca75bf8985207bb5b0c44a65ef28.ssl.cf4.rackcdn.com/Product-190x190/0fe8ca55-3908-41dd-9f63-2f8d3db781a6.jpg\n",
      "VELCRO® Brand Stick-On Coins - White - 16mm - 16 Set\n",
      "20\n",
      "https://bcc53877d7aa0a135b9a-1452ca75bf8985207bb5b0c44a65ef28.ssl.cf4.rackcdn.com/Product-190x190/15087e7d-ad70-460b-a274-19a7c09c8dea.jpg\n",
      "VELCRO® Brand Stick-On Coin - Black - 16mm - 16 Set\n",
      "21\n",
      "https://bcc53877d7aa0a135b9a-1452ca75bf8985207bb5b0c44a65ef28.ssl.cf4.rackcdn.com/Product-190x190/f8495d50-dd97-428b-90db-2f98f29db5f5.jpg\n",
      "VELCRO® Brand Stick-On Square - Black - 25mm - 24 Set\n",
      "22\n",
      "https://bcc53877d7aa0a135b9a-1452ca75bf8985207bb5b0c44a65ef28.ssl.cf4.rackcdn.com/Product-190x190/9fa6423d-56a2-4a3d-b789-c6f88607e86e.jpg\n",
      "VELCRO® Brand Stick On Tape - Black - 50mm x 1m\n",
      "23\n",
      "https://bcc53877d7aa0a135b9a-1452ca75bf8985207bb5b0c44a65ef28.ssl.cf4.rackcdn.com/Product-190x190/fa46efa2-0149-48da-9be2-b64582e27797.jpg\n",
      "VELCRO® Brand Stick-On Tape - White - 50mm x 1m\n",
      "24\n",
      "https://bcc53877d7aa0a135b9a-1452ca75bf8985207bb5b0c44a65ef28.ssl.cf4.rackcdn.com/Product-190x190/6b99b28e-dc07-4ad9-b4bb-0c4459ce5350.jpg\n",
      "VELCRO® Brand ONE-WRAP® Reusable Ties 1.2 x 20cm - 6 pack - Black\n",
      "25\n",
      "https://bcc53877d7aa0a135b9a-1452ca75bf8985207bb5b0c44a65ef28.ssl.cf4.rackcdn.com/Product-190x190/bbfae347-7c2d-47d1-89b8-015d2a6120d3.jpg\n",
      "VELCRO® Brand ONE-WRAP® Reusable Ties 1.2 x 20cm - 5 pack - Multi Colour\n"
     ]
    }
   ],
   "source": [
    "for i in range(len(data)):\n",
    "    print i+1\n",
    "    print data[i]['product-image']\n",
    "    print data[i]['product-name']"
   ]
  },
  {
   "cell_type": "code",
   "execution_count": null,
   "metadata": {},
   "outputs": [],
   "source": []
  }
 ],
 "metadata": {
  "kernelspec": {
   "display_name": "Python 2",
   "language": "python",
   "name": "python2"
  },
  "language_info": {
   "codemirror_mode": {
    "name": "ipython",
    "version": 2
   },
   "file_extension": ".py",
   "mimetype": "text/x-python",
   "name": "python",
   "nbconvert_exporter": "python",
   "pygments_lexer": "ipython2",
   "version": "2.7.13"
  }
 },
 "nbformat": 4,
 "nbformat_minor": 2
}
